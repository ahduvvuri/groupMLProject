{
 "cells": [
  {
   "cell_type": "code",
   "execution_count": 7,
   "id": "divided-temperature",
   "metadata": {},
   "outputs": [],
   "source": [
    "#import libraries to speed up computational runtime\n",
    "import numpy as np\n",
    "import pandas as pd\n",
    "import matplotlib.pyplot as plt\n",
    "import spotipy as spy\n",
    "import tensorflow as tf\n",
    "import seaborn as sns"
   ]
  },
  {
   "cell_type": "code",
   "execution_count": 36,
   "id": "exceptional-discretion",
   "metadata": {},
   "outputs": [],
   "source": [
    "#to be able to pull from spotify and read client ID and client secret from local .env file\n",
    "from spotipy.oauth2 import SpotifyClientCredentials\n",
    "from decouple import config\n",
    "from savify import Savify\n",
    "from savify.types import Type, Format, Quality"
   ]
  },
  {
   "cell_type": "code",
   "execution_count": 10,
   "id": "corporate-discussion",
   "metadata": {},
   "outputs": [],
   "source": [
    "#setting client ID and secret from local .env file in same root folder\n",
    "CLIENT_ID = config('CLIENT_ID')\n",
    "CLIENT_SECRET = config('CLIENT_SECRET')\n",
    "spotify = spy.Spotify(client_credentials_manager=SpotifyClientCredentials(client_id=CLIENT_ID, client_secret=CLIENT_SECRET))"
   ]
  },
  {
   "cell_type": "code",
   "execution_count": 16,
   "id": "unlimited-brisbane",
   "metadata": {},
   "outputs": [],
   "source": [
    "#to test getting a playlist and its items, hopefully as .wav files\n",
    "brostep_songs = spotify.playlist_items(playlist_id='spotify:playlist:4e1TfVuPeumCSZoA8KRq48')"
   ]
  },
  {
   "cell_type": "code",
   "execution_count": 35,
   "id": "dramatic-dressing",
   "metadata": {},
   "outputs": [],
   "source": [
    "#convert dict to DataFrame for ease of manipulation\n",
    "brostep_songs_df = pd.DataFrame.from_dict(brostep_songs)"
   ]
  },
  {
   "cell_type": "code",
   "execution_count": 34,
   "id": "atlantic-coating",
   "metadata": {},
   "outputs": [
    {
     "data": {
      "text/plain": [
       "'spotify:track:7gfHl4fmK3IubPoKDBwWE1'"
      ]
     },
     "execution_count": 34,
     "metadata": {},
     "output_type": "execute_result"
    }
   ],
   "source": [
    "#Showing how to index in order to loop through the tracks\n",
    "brostep_songs_df['items'][0]['track']['uri']"
   ]
  },
  {
   "cell_type": "code",
   "execution_count": 37,
   "id": "embedded-waterproof",
   "metadata": {},
   "outputs": [],
   "source": [
    "brostep_uris = []\n",
    "for i in range(100):\n",
    "    brostep_uris.append(brostep_songs_df['items'][i]['track']['uri'])\n"
   ]
  },
  {
   "cell_type": "code",
   "execution_count": 38,
   "id": "accomplished-providence",
   "metadata": {},
   "outputs": [
    {
     "name": "stdout",
     "output_type": "stream",
     "text": [
      "['spotify:track:7gfHl4fmK3IubPoKDBwWE1', 'spotify:track:4szmbw2i8VP7hphF06zNKG', 'spotify:track:3HXI3edwL4EiF6JBkNYZdj', 'spotify:track:5q8oybjZelukF4h0CzSUN9', 'spotify:track:5tGwVrXBhYGUIRQuQ1gvrQ', 'spotify:track:5i7fZq3chLyCHo3VeB6goD', 'spotify:track:2l01nCr1aULfmyLs9phUE5', 'spotify:track:3k3DZvTCSD4HKvj26dQDk8', 'spotify:track:5fC2H9ZmpCiLfhWLbE0lDp', 'spotify:track:7uAA7wdwvKmFXG44uyOXBI', 'spotify:track:2T2SQEIVSZt9zYCNqpiopi', 'spotify:track:5A8Ge7uQv273DmAHO5tH9T', 'spotify:track:67dQUuxRZVKKgkL13InYkN', 'spotify:track:09M9grZ3WRLGABSAtZv8LQ', 'spotify:track:4O1awegjHbC7VIyK4F2eJn', 'spotify:track:5eiP1WxA2JGIQTGi6WcbSp', 'spotify:track:1DcwvDcBKeATLX85CKbHFM', 'spotify:track:5DKznyYD5KpcSPF1ncsYnR', 'spotify:track:4bkysqCdbL7LRq0WrdeDRR', 'spotify:track:1fc12F23NDBAN1Y75GEc1v', 'spotify:track:4C00dZKiBEaD0UHWgzuF24', 'spotify:track:0AQ9rOkWKsFu9fP90tkpXn', 'spotify:track:5zJmpDEAaqjd9sjXQYKHNe', 'spotify:track:7AIqdBhjX28yoLdM2jX5T1', 'spotify:track:3AGawd3ZkLbYQlxe4nZIEK', 'spotify:track:3XThyUoEI8BPDjdu954Uof', 'spotify:track:6puWOoY5pvOoycq5RDSrO5', 'spotify:track:6IAV5QKNX8dTMNxO7iwgBo', 'spotify:track:2GJCEV9wTDtNf8KwjK9aaz', 'spotify:track:0IJOTp8U4Co4nqfPf4SBvN', 'spotify:track:0CKHwjN6Zw2EMr18dMYMdQ', 'spotify:track:6rCQZAnVI6FDUD0Oztw8eW', 'spotify:track:7pxSoVg55FZKXlNYO85Dva', 'spotify:track:6T74eZPUMHFlM9uyDd6Ge6', 'spotify:track:56guGYeAZpw3sUuUlaCsLw', 'spotify:track:1BSt8AfnQ2rWRzrzYmnrVl', 'spotify:track:5pUFt7Naaolk6dM0SwmHPv', 'spotify:track:6Rxa3iS3kpo9iTHg97Vxo3', 'spotify:track:09Qtrsc7I8bIvbXY9STe8S', 'spotify:track:1M4WM9HnZSTtjbdBMlOeJk', 'spotify:track:2bbWO7C1GcRMhZHDStHFWv', 'spotify:track:1XEiSzv1T2sUe9xGsmq3go', 'spotify:track:0rU3Vis9DJVwKIiNqXaGwY', 'spotify:track:5tN0IC6yfVGLpkQtLhsN54', 'spotify:track:2TjtYFTTxGSAUKKN1gXG6t', 'spotify:track:6uTrWLUYd7hM9ppnEywzQE', 'spotify:track:1cmz7je0tM5pMrXp4TrX8B', 'spotify:track:2UUM3KP8s0d303cEijMwMU', 'spotify:track:0PfaLXS5TciI1qEGFxvCzt', 'spotify:track:1Q7NFNv0nC8avSFdZSYuf5', 'spotify:track:7F4n3pHGNs3kwLuV1H4t3G', 'spotify:track:1gr1eVvKCJvbhveqKpwPIH', 'spotify:track:3mT8SuFmvheAToweq9oLGt', 'spotify:track:5bU3IAMbYFFYCjfhKFL9IC', 'spotify:track:0OVtaEuCqXFkswKBkJNQep', 'spotify:track:3hmfHVG0smsl6HXG9xC2a9', 'spotify:track:21MEyQP82jr0ikmijYR8R7', 'spotify:track:6kjM8ywD4dRWCT5QF7EP5L', 'spotify:track:4sxc4NNCss6WkAWB55OoCN', 'spotify:track:1YtWQ0RIfH2LdEtpns0v4u', 'spotify:track:4kFpvWVxtwzQCinPaLHin4', 'spotify:track:6AwbfviKqXyAgMt50VNDBL', 'spotify:track:1hro0fz6xQAlh5a9SKg9sv', 'spotify:track:1PQRWlvDyRqld2UNrbZ9cl', 'spotify:track:0JuRNiAaze3MnaxgaQt1IS', 'spotify:track:29tvgeyENfn2KhM1kgZNmD', 'spotify:track:6O0CKovnhI1ZT83wBpMBMl', 'spotify:track:0V3f2v8Xp411lIIn3T8SRM', 'spotify:track:474n167a9ooquXymv8WO8Q', 'spotify:track:7BXxWRoGwvz5LK2n59yCyd', 'spotify:track:76I3PmbGZazzNlEwlp1y85', 'spotify:track:2SzzIJUEw6w3BcdEFI1fTv', 'spotify:track:0wfHKJ8PIl4n3ZU1Pc2p4n', 'spotify:track:4ARSZ9wMt1txAoU4bj4qRY', 'spotify:track:1vKWGVybCJaIDWlqZWJZAc', 'spotify:track:2pubcJFg0P2eW0MT6ai0P0', 'spotify:track:5OV1pqp5teuvh1B4rhYa74', 'spotify:track:60AUuYrFbCBnPvDfofMfVF', 'spotify:track:4oftxZgwz2OJymHMFNQAwA', 'spotify:track:6EEAeLNnZmkVzPcwfcMocF', 'spotify:track:7y2Io0i8VJV2U4AWlMnIUS', 'spotify:track:3PotQOsx243pKKnlBmq7i7', 'spotify:track:04h8XvfCVm3mY2ZUIwYPTa', 'spotify:track:5Mru3ju8jyJh7Fg9u0598R', 'spotify:track:5pWX6TbxapqNQYLBLLDI4G', 'spotify:track:5i4pLcOADR9PWoT7JByukv', 'spotify:track:1pySkO3pCKPv86YBY3dax2', 'spotify:track:6NP8Wh53OWnTERUiBwZXTx', 'spotify:track:2OJoFDa7RI4hSDNMzM30qk', 'spotify:track:332K889x4ApvvRiwSWRkBk', 'spotify:track:5Ah3MgEmJ7qxZS82gdclU0', 'spotify:track:3eFa6drLtjs2XId8cGLRuU', 'spotify:track:1XHyktnDmImHwDQhHgdWfV', 'spotify:track:0auWmQ8dkRRXWTDTI6PMVz', 'spotify:track:2kH3a1G5GQsxSVNEi8Zs3y', 'spotify:track:0EQOkOgpYnnzHspIygVSd2', 'spotify:track:5SqnQb0ByPMhQy9WiIoHx4', 'spotify:track:4srEnH4a9pgerTW1qSGluW', 'spotify:track:6VEUzJzGo16QRnFvUpv4pQ', 'spotify:track:56HCRPBbi9N28GBUPnIJmJ']\n"
     ]
    }
   ],
   "source": [
    "print(brostep_uris)"
   ]
  },
  {
   "cell_type": "code",
   "execution_count": null,
   "id": "forced-dominant",
   "metadata": {},
   "outputs": [],
   "source": []
  }
 ],
 "metadata": {
  "kernelspec": {
   "display_name": "Python 3",
   "language": "python",
   "name": "python3"
  },
  "language_info": {
   "codemirror_mode": {
    "name": "ipython",
    "version": 3
   },
   "file_extension": ".py",
   "mimetype": "text/x-python",
   "name": "python",
   "nbconvert_exporter": "python",
   "pygments_lexer": "ipython3",
   "version": "3.9.2"
  }
 },
 "nbformat": 4,
 "nbformat_minor": 5
}
