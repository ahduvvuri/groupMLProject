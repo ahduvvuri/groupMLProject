{
 "cells": [
  {
   "cell_type": "code",
   "execution_count": 14,
   "metadata": {},
   "outputs": [
    {
     "name": "stderr",
     "output_type": "stream",
     "text": [
      "100%|██████████| 88/88 [10:52<00:00,  7.42s/it]\n"
     ]
    }
   ],
   "source": [
    "from pydub import AudioSegment\n",
    "from tqdm import tqdm #progress bar!!\n",
    "import os\n",
    "\n",
    "def match_target_amplitude(sound, target_dBFS):\n",
    "    change_in_dBFS = target_dBFS - sound.dBFS\n",
    "    return sound.apply_gain(change_in_dBFS)\n",
    "\n",
    "audio_path1 = \"ML Brostep/\"\n",
    "audio_clips1 = os.listdir(audio_path1)\n",
    "\n",
    "\n",
    "for i in tqdm(range(len(audio_clips1))):\n",
    "    split = audio_clips1[i].split('.') #this one iterates\n",
    "    if len(split) < 2:\n",
    "        continue\n",
    "    elif split[1] == 'mp3':\n",
    "        withoutMp3 = split[0]\n",
    "        sound = AudioSegment.from_file(audio_path1 + audio_clips1[i], \"mp3\")\n",
    "        normalized_sound = match_target_amplitude(sound, -20.0)\n",
    "        normalized_sound.export(\"ML Brostep/{}_norm.mp3\".format(withoutMp3), format=\"mp3\")\n",
    "    else:\n",
    "        continue\n",
    "\n",
    "\n",
    "\n"
   ]
  },
  {
   "cell_type": "code",
   "execution_count": 15,
   "metadata": {},
   "outputs": [
    {
     "name": "stderr",
     "output_type": "stream",
     "text": [
      "100%|██████████| 284/284 [05:56<00:00,  1.26s/it]\n"
     ]
    }
   ],
   "source": [
    "audio_path2 = \"ML Brostep/dropsOnly/\"\n",
    "audio_clips2 = os.listdir(audio_path2)\n",
    "\n",
    "for i in tqdm(range(len(audio_clips2))):\n",
    "    split = audio_clips2[i].split('.') #this one iterates\n",
    "    if split[1] == 'mp3':\n",
    "        withoutMp3 = split[0]\n",
    "        sound = AudioSegment.from_file(audio_path2 + audio_clips2[i], \"mp3\")\n",
    "        normalized_sound = match_target_amplitude(sound, -20.0)\n",
    "        normalized_sound.export(\"ML Brostep/dropsOnly/{}_norm.mp3\".format(withoutMp3), format=\"mp3\")\n",
    "    else:\n",
    "        continue"
   ]
  },
  {
   "cell_type": "code",
   "execution_count": null,
   "metadata": {},
   "outputs": [],
   "source": []
  }
 ],
 "metadata": {
  "kernelspec": {
   "display_name": "Python 3",
   "language": "python",
   "name": "python3"
  },
  "language_info": {
   "codemirror_mode": {
    "name": "ipython",
    "version": 3
   },
   "file_extension": ".py",
   "mimetype": "text/x-python",
   "name": "python",
   "nbconvert_exporter": "python",
   "pygments_lexer": "ipython3",
   "version": "3.7.6"
  }
 },
 "nbformat": 4,
 "nbformat_minor": 5
}
