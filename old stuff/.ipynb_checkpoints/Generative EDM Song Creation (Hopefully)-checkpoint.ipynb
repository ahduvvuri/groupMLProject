{
 "cells": [
  {
   "cell_type": "code",
   "execution_count": 1,
   "id": "divided-temperature",
   "metadata": {
    "scrolled": true
   },
   "outputs": [],
   "source": [
    "#import libraries to speed up computational runtime\n",
    "#import numpy as np\n",
    "#import pandas as pd\n",
    "#import matplotlib.pyplot as plt\n",
    "import spotipy as spy\n",
    "import ffmpeg\n",
    "#import tensorflow as tf\n",
    "#import seaborn as sns"
   ]
  },
  {
   "cell_type": "code",
   "execution_count": 2,
   "id": "exceptional-discretion",
   "metadata": {
    "scrolled": true
   },
   "outputs": [],
   "source": [
    "#to be able to pull from spotify and read client ID and client secret from local .env file\n",
    "from spotipy.oauth2 import SpotifyClientCredentials\n",
    "#from decouple import config\n",
    "from savify import Savify\n",
    "from savify.types import Type, Format, Quality\n"
   ]
  },
  {
   "cell_type": "code",
   "execution_count": 3,
   "id": "corporate-discussion",
   "metadata": {
    "scrolled": true
   },
   "outputs": [
    {
     "ename": "AttributeError",
     "evalue": "'NoneType' object has no attribute 'get_temp_dir'",
     "output_type": "error",
     "traceback": [
      "\u001b[0;31m---------------------------------------------------------------------------\u001b[0m",
      "\u001b[0;31mAttributeError\u001b[0m                            Traceback (most recent call last)",
      "\u001b[0;32m<ipython-input-3-078831c2d9cd>\u001b[0m in \u001b[0;36m<module>\u001b[0;34m\u001b[0m\n\u001b[1;32m      4\u001b[0m \u001b[0;31m#spotify = spy.Spotify(client_credentials_manager=SpotifyClientCredentials(client_id=CLIENT_ID, client_secret=CLIENT_SECRET))\u001b[0m\u001b[0;34m\u001b[0m\u001b[0;34m\u001b[0m\u001b[0;34m\u001b[0m\u001b[0m\n\u001b[1;32m      5\u001b[0m \u001b[0;34m\u001b[0m\u001b[0m\n\u001b[0;32m----> 6\u001b[0;31m \u001b[0ms\u001b[0m \u001b[0;34m=\u001b[0m \u001b[0mSavify\u001b[0m\u001b[0;34m(\u001b[0m\u001b[0mapi_credentials\u001b[0m\u001b[0;34m=\u001b[0m\u001b[0;34m(\u001b[0m\u001b[0;34m\"SPOTIPY_CLIENT_ID\"\u001b[0m\u001b[0;34m,\u001b[0m\u001b[0;34m\"SPOTIPY_CLIENT_SECRET\"\u001b[0m\u001b[0;34m)\u001b[0m\u001b[0;34m)\u001b[0m\u001b[0;34m\u001b[0m\u001b[0;34m\u001b[0m\u001b[0m\n\u001b[0m",
      "\u001b[0;32m/Library/Frameworks/Python.framework/Versions/3.9/lib/python3.9/site-packages/savify/savify.py\u001b[0m in \u001b[0;36m__init__\u001b[0;34m(self, api_credentials, quality, download_format, group, path_holder, retry, ydl_options, skip_cover_art, logger, ffmpeg_location)\u001b[0m\n\u001b[1;32m     73\u001b[0m             \u001b[0;32mraise\u001b[0m \u001b[0mFFmpegNotInstalledError\u001b[0m\u001b[0;34m\u001b[0m\u001b[0;34m\u001b[0m\u001b[0m\n\u001b[1;32m     74\u001b[0m \u001b[0;34m\u001b[0m\u001b[0m\n\u001b[0;32m---> 75\u001b[0;31m         \u001b[0mclean\u001b[0m\u001b[0;34m(\u001b[0m\u001b[0mself\u001b[0m\u001b[0;34m.\u001b[0m\u001b[0mpath_holder\u001b[0m\u001b[0;34m.\u001b[0m\u001b[0mget_temp_dir\u001b[0m\u001b[0;34m(\u001b[0m\u001b[0;34m)\u001b[0m\u001b[0;34m)\u001b[0m\u001b[0;34m\u001b[0m\u001b[0;34m\u001b[0m\u001b[0m\n\u001b[0m\u001b[1;32m     76\u001b[0m \u001b[0;34m\u001b[0m\u001b[0m\n\u001b[1;32m     77\u001b[0m     \u001b[0;32mdef\u001b[0m \u001b[0m_parse_query\u001b[0m\u001b[0;34m(\u001b[0m\u001b[0mself\u001b[0m\u001b[0;34m,\u001b[0m \u001b[0mquery\u001b[0m\u001b[0;34m,\u001b[0m \u001b[0mquery_type\u001b[0m\u001b[0;34m=\u001b[0m\u001b[0mType\u001b[0m\u001b[0;34m.\u001b[0m\u001b[0mTRACK\u001b[0m\u001b[0;34m)\u001b[0m \u001b[0;34m->\u001b[0m \u001b[0mlist\u001b[0m\u001b[0;34m:\u001b[0m\u001b[0;34m\u001b[0m\u001b[0;34m\u001b[0m\u001b[0m\n",
      "\u001b[0;31mAttributeError\u001b[0m: 'NoneType' object has no attribute 'get_temp_dir'"
     ]
    }
   ],
   "source": [
    "#setting client ID and secret from local .env file in same root folder\n",
    "#CLIENT_ID = config('CLIENT_ID')\n",
    "#CLIENT_SECRET = config('CLIENT_SECRET')\n",
    "#spotify = spy.Spotify(client_credentials_manager=SpotifyClientCredentials(client_id=CLIENT_ID, client_secret=CLIENT_SECRET))\n",
    "\n",
    "s = Savify(api_credentials=(\"CLIENT_ID\",\"CLIENT_SECRET\"))"
   ]
  },
  {
   "cell_type": "code",
   "execution_count": null,
   "id": "dramatic-dressing",
   "metadata": {
    "scrolled": true
   },
   "outputs": [],
   "source": [
    "s.download('https://open.spotify.com/playlist/3kCYhm6rqFEyyyt7OjWnYj?si=7b336465a9944983')"
   ]
  },
  {
   "cell_type": "code",
   "execution_count": null,
   "id": "genetic-longer",
   "metadata": {
    "scrolled": true
   },
   "outputs": [],
   "source": []
  }
 ],
 "metadata": {
  "kernelspec": {
   "display_name": "Python 3",
   "language": "python",
   "name": "python3"
  },
  "language_info": {
   "codemirror_mode": {
    "name": "ipython",
    "version": 3
   },
   "file_extension": ".py",
   "mimetype": "text/x-python",
   "name": "python",
   "nbconvert_exporter": "python",
   "pygments_lexer": "ipython3",
   "version": "3.9.2"
  }
 },
 "nbformat": 4,
 "nbformat_minor": 5
}
