{
 "cells": [
  {
   "cell_type": "code",
   "execution_count": 4,
   "id": "divided-temperature",
   "metadata": {},
   "outputs": [],
   "source": [
    "#import libraries to speed up computational runtime\n",
    "import numpy as np\n",
    "import pandas as pd\n",
    "import matplotlib.pyplot as plt\n",
    "import spotipy as spy\n",
    "#import tensorflow as tf\n",
    "import seaborn as sns"
   ]
  },
  {
   "cell_type": "code",
   "execution_count": 5,
   "id": "exceptional-discretion",
   "metadata": {},
   "outputs": [
    {
     "ename": "ImportError",
     "evalue": "cannot import name 'config' from 'decouple' (/Library/Frameworks/Python.framework/Versions/3.9/lib/python3.9/site-packages/decouple/__init__.py)",
     "output_type": "error",
     "traceback": [
      "\u001b[0;31m---------------------------------------------------------------------------\u001b[0m",
      "\u001b[0;31mImportError\u001b[0m                               Traceback (most recent call last)",
      "\u001b[0;32m<ipython-input-5-7008fe4c9a0e>\u001b[0m in \u001b[0;36m<module>\u001b[0;34m\u001b[0m\n\u001b[1;32m      1\u001b[0m \u001b[0;31m#to be able to pull from spotify and read client ID and client secret from local .env file\u001b[0m\u001b[0;34m\u001b[0m\u001b[0;34m\u001b[0m\u001b[0;34m\u001b[0m\u001b[0m\n\u001b[1;32m      2\u001b[0m \u001b[0;32mfrom\u001b[0m \u001b[0mspotipy\u001b[0m\u001b[0;34m.\u001b[0m\u001b[0moauth2\u001b[0m \u001b[0;32mimport\u001b[0m \u001b[0mSpotifyClientCredentials\u001b[0m\u001b[0;34m\u001b[0m\u001b[0;34m\u001b[0m\u001b[0m\n\u001b[0;32m----> 3\u001b[0;31m \u001b[0;32mfrom\u001b[0m \u001b[0mdecouple\u001b[0m \u001b[0;32mimport\u001b[0m \u001b[0mconfig\u001b[0m\u001b[0;34m\u001b[0m\u001b[0;34m\u001b[0m\u001b[0m\n\u001b[0m\u001b[1;32m      4\u001b[0m \u001b[0;32mfrom\u001b[0m \u001b[0msavify\u001b[0m \u001b[0;32mimport\u001b[0m \u001b[0mSavify\u001b[0m\u001b[0;34m\u001b[0m\u001b[0;34m\u001b[0m\u001b[0m\n\u001b[1;32m      5\u001b[0m \u001b[0;32mfrom\u001b[0m \u001b[0msavify\u001b[0m\u001b[0;34m.\u001b[0m\u001b[0mtypes\u001b[0m \u001b[0;32mimport\u001b[0m \u001b[0mType\u001b[0m\u001b[0;34m,\u001b[0m \u001b[0mFormat\u001b[0m\u001b[0;34m,\u001b[0m \u001b[0mQuality\u001b[0m\u001b[0;34m\u001b[0m\u001b[0;34m\u001b[0m\u001b[0m\n",
      "\u001b[0;31mImportError\u001b[0m: cannot import name 'config' from 'decouple' (/Library/Frameworks/Python.framework/Versions/3.9/lib/python3.9/site-packages/decouple/__init__.py)"
     ]
    }
   ],
   "source": [
    "#to be able to pull from spotify and read client ID and client secret from local .env file\n",
    "from spotipy.oauth2 import SpotifyClientCredentials\n",
    "from decouple import config\n",
    "from savify import Savify\n",
    "from savify.types import Type, Format, Quality"
   ]
  },
  {
   "cell_type": "code",
   "execution_count": 2,
   "id": "corporate-discussion",
   "metadata": {},
   "outputs": [
    {
     "ename": "NameError",
     "evalue": "name 'config' is not defined",
     "output_type": "error",
     "traceback": [
      "\u001b[0;31m---------------------------------------------------------------------------\u001b[0m",
      "\u001b[0;31mNameError\u001b[0m                                 Traceback (most recent call last)",
      "\u001b[0;32m<ipython-input-2-f2fd31105264>\u001b[0m in \u001b[0;36m<module>\u001b[0;34m\u001b[0m\n\u001b[1;32m      1\u001b[0m \u001b[0;31m#setting client ID and secret from local .env file in same root folder\u001b[0m\u001b[0;34m\u001b[0m\u001b[0;34m\u001b[0m\u001b[0;34m\u001b[0m\u001b[0m\n\u001b[0;32m----> 2\u001b[0;31m \u001b[0mCLIENT_ID\u001b[0m \u001b[0;34m=\u001b[0m \u001b[0mconfig\u001b[0m\u001b[0;34m(\u001b[0m\u001b[0;34m'CLIENT_ID'\u001b[0m\u001b[0;34m)\u001b[0m\u001b[0;34m\u001b[0m\u001b[0;34m\u001b[0m\u001b[0m\n\u001b[0m\u001b[1;32m      3\u001b[0m \u001b[0mCLIENT_SECRET\u001b[0m \u001b[0;34m=\u001b[0m \u001b[0mconfig\u001b[0m\u001b[0;34m(\u001b[0m\u001b[0;34m'CLIENT_SECRET'\u001b[0m\u001b[0;34m)\u001b[0m\u001b[0;34m\u001b[0m\u001b[0;34m\u001b[0m\u001b[0m\n\u001b[1;32m      4\u001b[0m \u001b[0mspotify\u001b[0m \u001b[0;34m=\u001b[0m \u001b[0mspy\u001b[0m\u001b[0;34m.\u001b[0m\u001b[0mSpotify\u001b[0m\u001b[0;34m(\u001b[0m\u001b[0mclient_credentials_manager\u001b[0m\u001b[0;34m=\u001b[0m\u001b[0mSpotifyClientCredentials\u001b[0m\u001b[0;34m(\u001b[0m\u001b[0mclient_id\u001b[0m\u001b[0;34m=\u001b[0m\u001b[0mCLIENT_ID\u001b[0m\u001b[0;34m,\u001b[0m \u001b[0mclient_secret\u001b[0m\u001b[0;34m=\u001b[0m\u001b[0mCLIENT_SECRET\u001b[0m\u001b[0;34m)\u001b[0m\u001b[0;34m)\u001b[0m\u001b[0;34m\u001b[0m\u001b[0;34m\u001b[0m\u001b[0m\n",
      "\u001b[0;31mNameError\u001b[0m: name 'config' is not defined"
     ]
    }
   ],
   "source": [
    "#setting client ID and secret from local .env file in same root folder\n",
    "CLIENT_ID = config('CLIENT_ID')\n",
    "CLIENT_SECRET = config('CLIENT_SECRET')\n",
    "spotify = spy.Spotify(client_credentials_manager=SpotifyClientCredentials(client_id=CLIENT_ID, client_secret=CLIENT_SECRET))"
   ]
  },
  {
   "cell_type": "code",
   "execution_count": null,
   "id": "unlimited-brisbane",
   "metadata": {},
   "outputs": [],
   "source": [
    "#to test getting a playlist and its items, hopefully as .wav files\n",
    "brostep_songs = spotify.playlist_items(playlist_id='spotify:playlist:4e1TfVuPeumCSZoA8KRq48')"
   ]
  },
  {
   "cell_type": "code",
   "execution_count": null,
   "id": "dramatic-dressing",
   "metadata": {},
   "outputs": [],
   "source": [
    "#convert dict to DataFrame for ease of manipulation\n",
    "brostep_songs_df = pd.DataFrame.from_dict(brostep_songs)"
   ]
  },
  {
   "cell_type": "code",
   "execution_count": null,
   "id": "atlantic-coating",
   "metadata": {},
   "outputs": [],
   "source": [
    "#Showing how to index in order to loop through the tracks\n",
    "brostep_songs_df['items'][0]['track']['uri']"
   ]
  },
  {
   "cell_type": "code",
   "execution_count": null,
   "id": "embedded-waterproof",
   "metadata": {},
   "outputs": [],
   "source": [
    "brostep_uris = []\n",
    "for i in range(100):\n",
    "    brostep_uris.append(brostep_songs_df['items'][i]['track']['uri'])\n"
   ]
  },
  {
   "cell_type": "code",
   "execution_count": null,
   "id": "accomplished-providence",
   "metadata": {},
   "outputs": [],
   "source": [
    "print(brostep_uris)"
   ]
  },
  {
   "cell_type": "code",
   "execution_count": null,
   "id": "forced-dominant",
   "metadata": {},
   "outputs": [],
   "source": []
  }
 ],
 "metadata": {
  "kernelspec": {
   "display_name": "Python 3",
   "language": "python",
   "name": "python3"
  },
  "language_info": {
   "codemirror_mode": {
    "name": "ipython",
    "version": 3
   },
   "file_extension": ".py",
   "mimetype": "text/x-python",
   "name": "python",
   "nbconvert_exporter": "python",
   "pygments_lexer": "ipython3",
   "version": "3.9.2"
  }
 },
 "nbformat": 4,
 "nbformat_minor": 5
}
